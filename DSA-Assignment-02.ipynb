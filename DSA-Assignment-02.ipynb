{
 "cells": [
  {
   "cell_type": "markdown",
   "id": "3afdaf6c",
   "metadata": {},
   "source": [
    "\n",
    "💡 **Question 1)**\n",
    "Given an integer array nums of 2n integers, group these integers into n pairs (a1, b1), (a2, b2),..., (an, bn) such that the sum of min(ai, bi) for all i is maximized. Return the maximized sum.\n",
    "\n",
    "**Example 1:**\n",
    "Input: nums = [1,4,3,2]<br>\n",
    "Output: 4\n",
    "\n",
    "**Explanation:** All possible pairings (ignoring the ordering of elements) are:\n",
    "\n",
    "1. (1, 4), (2, 3) -> min(1, 4) + min(2, 3) = 1 + 2 = 3\n",
    "2. (1, 3), (2, 4) -> min(1, 3) + min(2, 4) = 1 + 2 = 3\n",
    "3. (1, 2), (3, 4) -> min(1, 2) + min(3, 4) = 1 + 3 = 4\n",
    "So the maximum possible sum is 4\n"
   ]
  },
  {
   "cell_type": "code",
   "execution_count": 101,
   "id": "522cad4a",
   "metadata": {},
   "outputs": [],
   "source": [
    "def pair_sum(nums):\n",
    "    nums.sort()  \n",
    "    sum=0\n",
    "    \n",
    "    for i in range(0, len(nums), 2):\n",
    "        sum+=nums[i]  \n",
    "    \n",
    "    return sum"
   ]
  },
  {
   "cell_type": "code",
   "execution_count": 102,
   "id": "b17fb830",
   "metadata": {},
   "outputs": [
    {
     "data": {
      "text/plain": [
       "4"
      ]
     },
     "execution_count": 102,
     "metadata": {},
     "output_type": "execute_result"
    }
   ],
   "source": [
    "pair_sum([1,4,3,2])"
   ]
  },
  {
   "cell_type": "markdown",
   "id": "579acdb4",
   "metadata": {},
   "source": [
    "**Question 2)**\n",
    "Alice has n candies, where the ith candy is of type candyType[i]. Alice noticed that she started to gain weight, so she visited a doctor. \n",
    "\n",
    "The doctor advised Alice to only eat n / 2 of the candies she has (n is always even). Alice likes her candies very much, and she wants to eat the maximum number of different types of candies while still following the doctor's advice. \n",
    "\n",
    "Given the integer array candyType of length n, return the maximum number of different types of candies she can eat if she only eats n / 2 of them.\n",
    "\n",
    "Example 1:\n",
    "Input: candyType = [1,1,2,2,3,3]<br>\n",
    "Output: 3<br>\n",
    "\n",
    "Explanation: Alice can only eat 6 / 2 = 3 candies. Since there are only 3 types, she can eat one of each type."
   ]
  },
  {
   "cell_type": "code",
   "execution_count": 9,
   "id": "cd54b9d4",
   "metadata": {},
   "outputs": [],
   "source": [
    "def candy(nums):\n",
    "    count=len(nums)/2\n",
    "    for i in set(nums):\n",
    "        if len(set(nums))>=count:\n",
    "            return int(count)\n",
    "        else:\n",
    "            return len(set(nums))"
   ]
  },
  {
   "cell_type": "code",
   "execution_count": 10,
   "id": "14decbac",
   "metadata": {},
   "outputs": [
    {
     "data": {
      "text/plain": [
       "3"
      ]
     },
     "execution_count": 10,
     "metadata": {},
     "output_type": "execute_result"
    }
   ],
   "source": [
    "candy([1,1,2,2,3,3])"
   ]
  },
  {
   "cell_type": "markdown",
   "id": "491e6d67",
   "metadata": {},
   "source": [
    "**Question 3**\n",
    "We define a harmonious array as an array where the difference between its maximum value\n",
    "and its minimum value is exactly 1.\n",
    "\n",
    "Given an integer array nums, return the length of its longest harmonious subsequence\n",
    "among all its possible subsequences.\n",
    "\n",
    "A subsequence of an array is a sequence that can be derived from the array by deleting some or no elements without changing the order of the remaining elements.\n",
    "\n",
    "Example 1:\n",
    "Input: nums = [1,3,2,2,5,2,3,7]<br>\n",
    "Output: 5\n",
    "\n",
    "Explanation: The longest harmonious subsequence is [3,2,2,2,3]."
   ]
  },
  {
   "cell_type": "code",
   "execution_count": 120,
   "id": "0da0b4aa",
   "metadata": {},
   "outputs": [],
   "source": [
    "def harmonious(nums):\n",
    "    count = {}\n",
    "    length = 0\n",
    "    for num in nums:\n",
    "        count[num] = count.get(num, 0) + 1\n",
    "    for num in count:\n",
    "        if num + 1 in count:\n",
    "            length = max(length, count[num] + count[num + 1])    \n",
    "    return length\n"
   ]
  },
  {
   "cell_type": "code",
   "execution_count": 121,
   "id": "a852f887",
   "metadata": {},
   "outputs": [
    {
     "data": {
      "text/plain": [
       "5"
      ]
     },
     "execution_count": 121,
     "metadata": {},
     "output_type": "execute_result"
    }
   ],
   "source": [
    "harmonious([1,3,2,2,5,2,3,7])"
   ]
  },
  {
   "cell_type": "markdown",
   "id": "92c36bf4",
   "metadata": {},
   "source": [
    "**Question 4)**\n",
    "You have a long flowerbed in which some of the plots are planted, and some are not.\n",
    "However, flowers cannot be planted in adjacent plots.\n",
    "Given an integer array flowerbed containing 0's and 1's, where 0 means empty and 1 means not empty, and an integer n, return true if n new flowers can be planted in the flowerbed without violating the no-adjacent-flowers rule and false otherwise.\n",
    "\n",
    "Example 1:\n",
    "Input: flowerbed = [1,0,0,0,1], n = 1<br>\n",
    "Output: true"
   ]
  },
  {
   "cell_type": "code",
   "execution_count": 22,
   "id": "eba23003",
   "metadata": {},
   "outputs": [],
   "source": [
    "def plant(nums,n):\n",
    "    count=0\n",
    "    if len(nums)>1:\n",
    "        for i in range(len(nums)):\n",
    "            if i==0:\n",
    "                if nums[0]==0 and nums[1]==0:\n",
    "                    count+=1\n",
    "                    nums[0]=1\n",
    "            elif i==len(nums)-1: \n",
    "                if nums[len(nums)-1]==0 and nums[len(nums)-2]==0:\n",
    "                    count+=1\n",
    "                    nums[len(nums)-1]=1\n",
    "            elif i!=0 and i!=len(nums)-1:\n",
    "                if nums[i]==0 and nums[i-1]==0 and nums[i+1]==0:\n",
    "                    count+=1\n",
    "                    nums[i]=1\n",
    "    else:\n",
    "        if nums[0]==0:\n",
    "            count+=1\n",
    "    if count>=n:\n",
    "        return True\n",
    "    else: \n",
    "        return False"
   ]
  },
  {
   "cell_type": "code",
   "execution_count": 23,
   "id": "8f27ed7d",
   "metadata": {},
   "outputs": [
    {
     "data": {
      "text/plain": [
       "True"
      ]
     },
     "execution_count": 23,
     "metadata": {},
     "output_type": "execute_result"
    }
   ],
   "source": [
    "plant([1,0,0,0,0,1],1)"
   ]
  },
  {
   "cell_type": "code",
   "execution_count": 24,
   "id": "885c0e61",
   "metadata": {},
   "outputs": [
    {
     "data": {
      "text/plain": [
       "False"
      ]
     },
     "execution_count": 24,
     "metadata": {},
     "output_type": "execute_result"
    }
   ],
   "source": [
    "plant([1,0,0,0,0,1],2)"
   ]
  },
  {
   "cell_type": "markdown",
   "id": "48413f67",
   "metadata": {},
   "source": [
    "**Question 5)**\n",
    "Given an integer array nums, find three numbers whose product is maximum and return the maximum product.\n",
    "\n",
    "Example 1:\n",
    "Input: nums = [1,2,3]<br>\n",
    "Output: 6"
   ]
  },
  {
   "cell_type": "code",
   "execution_count": 75,
   "id": "5e57ac4d",
   "metadata": {},
   "outputs": [],
   "source": [
    "def max_product(nums):\n",
    "        nums.sort()\n",
    "        count_0=0\n",
    "        count_1=0\n",
    "        for i in range(len(nums)-3,len(nums)):\n",
    "            if nums[i]>0:\n",
    "                count_1+=1\n",
    "            elif nums[i]==0:\n",
    "                count_0+=1\n",
    "        if count_0>0:\n",
    "            product=nums[-1]*nums[0]*nums[1]\n",
    "            if product<0:\n",
    "                product=0\n",
    "        elif count_0==0:\n",
    "            if count_1==1 or count_1==3:\n",
    "                product=nums[-1]*nums[-2]*nums[-3]\n",
    "                temp=nums[0]*nums[1]*nums[-1]\n",
    "                if temp>product:\n",
    "                    product=temp\n",
    "            else:\n",
    "                product=nums[-1]*nums[-2]*nums[-3]\n",
    "                temp=nums[0]*nums[1]*nums[-1]\n",
    "                if temp>product:\n",
    "                    product=temp\n",
    "        return product"
   ]
  },
  {
   "cell_type": "code",
   "execution_count": 76,
   "id": "a4f9cdca",
   "metadata": {},
   "outputs": [
    {
     "data": {
      "text/plain": [
       "6"
      ]
     },
     "execution_count": 76,
     "metadata": {},
     "output_type": "execute_result"
    }
   ],
   "source": [
    "max_product([1,2,3])"
   ]
  },
  {
   "cell_type": "markdown",
   "id": "f991af35",
   "metadata": {},
   "source": [
    "**Question 6)**\n",
    "Given an array of integers nums which is sorted in ascending order, and an integer target,\n",
    "write a function to search target in nums. If target exists, then return its index. Otherwise,\n",
    "return -1.\n",
    "\n",
    "You must write an algorithm with O(log n) runtime complexity.\n",
    "\n",
    "Input: nums = [-1,0,3,5,9,12], target = 9<br>\n",
    "Output: 4\n",
    "\n",
    "Explanation: 9 exists in nums and its index is 4"
   ]
  },
  {
   "cell_type": "code",
   "execution_count": 77,
   "id": "740ec0fc",
   "metadata": {},
   "outputs": [],
   "source": [
    "def find_target(nums,target):\n",
    "    if target in nums:\n",
    "        return nums.index(target)\n",
    "    else:\n",
    "        return -1"
   ]
  },
  {
   "cell_type": "code",
   "execution_count": 79,
   "id": "48bbf93c",
   "metadata": {},
   "outputs": [
    {
     "data": {
      "text/plain": [
       "4"
      ]
     },
     "execution_count": 79,
     "metadata": {},
     "output_type": "execute_result"
    }
   ],
   "source": [
    "find_target([-1,0,3,5,9,12],9)"
   ]
  },
  {
   "cell_type": "markdown",
   "id": "23cb73a6",
   "metadata": {},
   "source": [
    "**Question 7)**\n",
    "An array is monotonic if it is either monotone increasing or monotone decreasing.\n",
    "\n",
    "An array nums is monotone increasing if for all i <= j, nums[i] <= nums[j]. An array nums is\n",
    "monotone decreasing if for all i <= j, nums[i] >= nums[j].\n",
    "\n",
    "Given an integer array nums, return true if the given array is monotonic, or false otherwise.\n",
    "\n",
    "Example 1:\n",
    "Input: nums = [1,2,2,3]<br>\n",
    "Output: true"
   ]
  },
  {
   "cell_type": "code",
   "execution_count": 97,
   "id": "e9ad071b",
   "metadata": {},
   "outputs": [],
   "source": [
    "def inc_dec(nums):\n",
    "    count_inc,count_dec=0,0\n",
    "    for i in range(len(nums)-1):\n",
    "        if nums[i]<=nums[i+1]:\n",
    "            count_inc+=1\n",
    "    for j in range(len(nums)-1):\n",
    "        if nums[j]>=nums[j+1]:\n",
    "            count_dec+=1\n",
    "    if count_inc==(len(nums)-1):\n",
    "        return True\n",
    "    elif count_dec==(len(nums)-1):\n",
    "        return True\n",
    "    else:\n",
    "        return False"
   ]
  },
  {
   "cell_type": "code",
   "execution_count": 99,
   "id": "5555b1a7",
   "metadata": {},
   "outputs": [
    {
     "data": {
      "text/plain": [
       "True"
      ]
     },
     "execution_count": 99,
     "metadata": {},
     "output_type": "execute_result"
    }
   ],
   "source": [
    "inc_dec([8,7,7,6,6,5,4,3,3,2,1,1])"
   ]
  }
 ],
 "metadata": {
  "kernelspec": {
   "display_name": "Python 3 (ipykernel)",
   "language": "python",
   "name": "python3"
  },
  "language_info": {
   "codemirror_mode": {
    "name": "ipython",
    "version": 3
   },
   "file_extension": ".py",
   "mimetype": "text/x-python",
   "name": "python",
   "nbconvert_exporter": "python",
   "pygments_lexer": "ipython3",
   "version": "3.9.13"
  }
 },
 "nbformat": 4,
 "nbformat_minor": 5
}
